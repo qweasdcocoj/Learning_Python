{
 "cells": [
  {
   "cell_type": "code",
   "execution_count": null,
   "metadata": {},
   "outputs": [
    {
     "name": "stdout",
     "output_type": "stream",
     "text": [
      "Please input 1-100:200\n",
      "Please input 1-100\n",
      "Please input 1-100:AAA\n",
      "Please input number!\n",
      "Please input 1-100:55\n",
      "OK\n",
      "Please input 1-100:45\n",
      "Please input 1-100:66\n",
      "Please input 1-100:55\n",
      "OK\n"
     ]
    }
   ],
   "source": [
    "import random\n",
    "number=random.randint(1,100)\n",
    "guess=0\n",
    "while True:\n",
    "    num_input=input(\"Please input 1-100:\")\n",
    "    if not(num_input.isdigit()):\n",
    "        print(\"Please input number!\")\n",
    "    elif (int(num_input)>100 or int(num_input)<1):\n",
    "        print(\"Please input 1-100\")\n",
    "    else:\n",
    "        if int(num_input) == number:\n",
    "            print(\"OK\")"
   ]
  },
  {
   "cell_type": "code",
   "execution_count": null,
   "metadata": {},
   "outputs": [],
   "source": [
    "a=8\n",
    "while a:\n",
    "    if(a%2)==0:\n",
    "        print(\"{} is even\").format(a)\n",
    "    else:\n",
    "        "
   ]
  }
 ],
 "metadata": {
  "kernelspec": {
   "display_name": "Python 3",
   "language": "python",
   "name": "python3"
  },
  "language_info": {
   "codemirror_mode": {
    "name": "ipython",
    "version": 3
   },
   "file_extension": ".py",
   "mimetype": "text/x-python",
   "name": "python",
   "nbconvert_exporter": "python",
   "pygments_lexer": "ipython3",
   "version": "3.7.6"
  }
 },
 "nbformat": 4,
 "nbformat_minor": 4
}
