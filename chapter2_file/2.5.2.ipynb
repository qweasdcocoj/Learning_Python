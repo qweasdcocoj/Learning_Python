{
 "cells": [
  {
   "cell_type": "code",
   "execution_count": 6,
   "metadata": {},
   "outputs": [
    {
     "name": "stdout",
     "output_type": "stream",
     "text": [
      "10 is even\n"
     ]
    }
   ],
   "source": [
    "a=10\n",
    "while a:\n",
    "    if(a%2)==0:\n",
    "        break\n",
    "    else:\n",
    "        a-=1\n",
    "print(\"{} is even\".format(a))"
   ]
  },
  {
   "cell_type": "code",
   "execution_count": 8,
   "metadata": {},
   "outputs": [
    {
     "name": "stdout",
     "output_type": "stream",
     "text": [
      "11 is odd\n",
      "9 is odd\n",
      "7 is odd\n",
      "5 is odd\n",
      "3 is odd\n",
      "1 is odd\n"
     ]
    }
   ],
   "source": [
    "a=11\n",
    "while a:\n",
    "    if (a%2)==0:\n",
    "        a-=1\n",
    "        continue\n",
    "    else:\n",
    "        print(\"{} is odd\".format(a))\n",
    "        a-=1\n",
    "        "
   ]
  },
  {
   "cell_type": "markdown",
   "metadata": {},
   "source": [
    "while....else"
   ]
  },
  {
   "cell_type": "code",
   "execution_count": 12,
   "metadata": {},
   "outputs": [
    {
     "name": "stdout",
     "output_type": "stream",
     "text": [
      "0 < 5\n",
      "1 < 5\n",
      "2 < 5\n",
      "3 < 5\n",
      "4 < 5\n",
      "5 >= 5\n"
     ]
    }
   ],
   "source": [
    "count=0\n",
    "while count<5:\n",
    "    print(\"{} < 5\".format(count))\n",
    "    count+=1\n",
    "else:\n",
    "    print(\"{} >= 5\".format(count))"
   ]
  },
  {
   "cell_type": "markdown",
   "metadata": {},
   "source": [
    "for....else"
   ]
  },
  {
   "cell_type": "code",
   "execution_count": null,
   "metadata": {},
   "outputs": [],
   "source": [
    "from math import sqrt\n",
    "\n",
    "for i in range(99,1,-1):\n",
    "    i_sq=sqrt(i)\n",
    "    if i_sq==int(i_sq):\n",
    "        print(i)\n",
    "        break\n",
    "\n",
    "        "
   ]
  }
 ],
 "metadata": {
  "kernelspec": {
   "display_name": "Python 3",
   "language": "python",
   "name": "python3"
  },
  "language_info": {
   "codemirror_mode": {
    "name": "ipython",
    "version": 3
   },
   "file_extension": ".py",
   "mimetype": "text/x-python",
   "name": "python",
   "nbconvert_exporter": "python",
   "pygments_lexer": "ipython3",
   "version": "3.7.6"
  }
 },
 "nbformat": 4,
 "nbformat_minor": 4
}
