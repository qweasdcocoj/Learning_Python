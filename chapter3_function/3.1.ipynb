{
 "cells": [
  {
   "cell_type": "code",
   "execution_count": 3,
   "metadata": {},
   "outputs": [
    {
     "name": "stdout",
     "output_type": "stream",
     "text": [
      "12\n"
     ]
    }
   ],
   "source": [
    "def add_function(a,b):\n",
    "    c=a+b\n",
    "    return c\n",
    "\n",
    "if __name__==\"__main__\":\n",
    "    result=add_function(3,9)\n",
    "    print(result)"
   ]
  },
  {
   "cell_type": "code",
   "execution_count": 9,
   "metadata": {},
   "outputs": [
    {
     "name": "stdout",
     "output_type": "stream",
     "text": [
      "x=10\n",
      "y=3\n",
      "13\n",
      "------------\n",
      "x=3\n",
      "y=10\n",
      "13\n",
      "------------\n",
      "x=8\n",
      "y=6\n",
      "14\n",
      "------------\n"
     ]
    }
   ],
   "source": [
    "def add(x,y):\n",
    "    print(\"x={}\".format(x))\n",
    "    print(\"y={}\".format(y))\n",
    "    print(x+y)\n",
    "    print(\"------------\")\n",
    "add(10,3)\n",
    "add(3,10)\n",
    "add(x=8,y=6)"
   ]
  },
  {
   "cell_type": "markdown",
   "metadata": {},
   "source": [
    "等待賦值 並給予默認值"
   ]
  },
  {
   "cell_type": "code",
   "execution_count": 14,
   "metadata": {},
   "outputs": [
    {
     "name": "stdout",
     "output_type": "stream",
     "text": [
      "x=3\n",
      "y=2\n",
      "6\n",
      "------------\n",
      "x=4\n",
      "y=6\n",
      "24\n",
      "------------\n",
      "x=9\n",
      "y=6\n",
      "54\n",
      "------------\n",
      "x=qwe\n",
      "y=2\n",
      "qweqwe\n",
      "------------\n"
     ]
    }
   ],
   "source": [
    "def time(x,y=2):\n",
    "    print(\"x={}\".format(x))\n",
    "    print(\"y={}\".format(y))\n",
    "    print(x*y)\n",
    "    print(\"------------\")\n",
    "    \n",
    "time(3)\n",
    "time(4,6)\n",
    "time(x=9,y=6)\n",
    "time(\"qwe\")"
   ]
  },
  {
   "cell_type": "code",
   "execution_count": null,
   "metadata": {},
   "outputs": [],
   "source": []
  }
 ],
 "metadata": {
  "kernelspec": {
   "display_name": "Python 3",
   "language": "python",
   "name": "python3"
  },
  "language_info": {
   "codemirror_mode": {
    "name": "ipython",
    "version": 3
   },
   "file_extension": ".py",
   "mimetype": "text/x-python",
   "name": "python",
   "nbconvert_exporter": "python",
   "pygments_lexer": "ipython3",
   "version": "3.7.6"
  }
 },
 "nbformat": 4,
 "nbformat_minor": 4
}
