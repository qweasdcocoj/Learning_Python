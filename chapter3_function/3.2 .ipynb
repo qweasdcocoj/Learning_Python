{
 "cells": [
  {
   "cell_type": "code",
   "execution_count": 7,
   "metadata": {},
   "outputs": [
    {
     "name": "stdout",
     "output_type": "stream",
     "text": [
      "[0, 1, 1, 2, 3, 5, 8, 13, 21, 34]\n"
     ]
    }
   ],
   "source": [
    "def fibs(n):\n",
    "    result=[0,1]\n",
    "    for i in range(n-2):\n",
    "        result.append(result[-1]+result[-2])\n",
    "    \n",
    "    return result\n",
    "\n",
    "if __name__==\"__main__\":\n",
    "    lst=fibs(10)\n",
    "    print(lst)"
   ]
  },
  {
   "cell_type": "code",
   "execution_count": 8,
   "metadata": {},
   "outputs": [
    {
     "data": {
      "text/plain": [
       "(1, 2, 3)"
      ]
     },
     "execution_count": 8,
     "metadata": {},
     "output_type": "execute_result"
    }
   ],
   "source": [
    "def my_fun():\n",
    "    return 1,2,3\n",
    "\n",
    "a=my_fun()\n",
    "a"
   ]
  },
  {
   "cell_type": "code",
   "execution_count": 11,
   "metadata": {},
   "outputs": [
    {
     "name": "stdout",
     "output_type": "stream",
     "text": [
      "Help on function my_fun in module __main__:\n",
      "\n",
      "my_fun()\n",
      "    return 1,2,3\n",
      "\n"
     ]
    }
   ],
   "source": [
    "def my_fun():\n",
    "    \"\"\"\n",
    "    return 1,2,3\n",
    "    \"\"\"\n",
    "    return 1,2,3\n",
    "\n",
    "help(my_fun)"
   ]
  },
  {
   "cell_type": "markdown",
   "metadata": {},
   "source": [
    "程序大多數情況下是給人看得 只是偶爾被機器執行 注意文檔的撰寫"
   ]
  },
  {
   "cell_type": "code",
   "execution_count": 10,
   "metadata": {},
   "outputs": [
    {
     "name": "stdout",
     "output_type": "stream",
     "text": [
      "1 2 3\n"
     ]
    }
   ],
   "source": [
    "def my_fun():\n",
    "    return 1,2,3\n",
    "\n",
    "a,b,c=my_fun()\n",
    "print(a,b,c)"
   ]
  },
  {
   "cell_type": "markdown",
   "metadata": {},
   "source": [
    "函數的屬性"
   ]
  },
  {
   "cell_type": "code",
   "execution_count": 12,
   "metadata": {},
   "outputs": [
    {
     "data": {
      "text/plain": [
       "'\\n    This is a function of canglaoshi\\n    '"
      ]
     },
     "execution_count": 12,
     "metadata": {},
     "output_type": "execute_result"
    }
   ],
   "source": [
    "def cang():\n",
    "    \"\"\"\n",
    "    This is a function of canglaoshi\n",
    "    \"\"\"\n",
    "    pass\n",
    "cang.__doc__"
   ]
  },
  {
   "cell_type": "markdown",
   "metadata": {},
   "source": [
    "新增函數的屬性"
   ]
  },
  {
   "cell_type": "code",
   "execution_count": 13,
   "metadata": {},
   "outputs": [
    {
     "data": {
      "text/plain": [
       "90"
      ]
     },
     "execution_count": 13,
     "metadata": {},
     "output_type": "execute_result"
    }
   ],
   "source": [
    "cang.breast=90\n",
    "cang.breast"
   ]
  },
  {
   "cell_type": "markdown",
   "metadata": {},
   "source": [
    "多個參數收集"
   ]
  },
  {
   "cell_type": "code",
   "execution_count": 17,
   "metadata": {},
   "outputs": [
    {
     "name": "stdout",
     "output_type": "stream",
     "text": [
      "1\n",
      "(2, 3, 4, 5, 6, 7, 8, 9)\n",
      "45\n"
     ]
    }
   ],
   "source": [
    "def func(x,*arg):\n",
    "    print(x)\n",
    "    result=x\n",
    "    print(arg)\n",
    "    for i in arg:\n",
    "        result=result+i\n",
    "    return result\n",
    "\n",
    "print(func(1,2,3,4,5,6,7,8,9))\n"
   ]
  },
  {
   "cell_type": "code",
   "execution_count": null,
   "metadata": {},
   "outputs": [],
   "source": []
  }
 ],
 "metadata": {
  "kernelspec": {
   "display_name": "Python 3",
   "language": "python",
   "name": "python3"
  },
  "language_info": {
   "codemirror_mode": {
    "name": "ipython",
    "version": 3
   },
   "file_extension": ".py",
   "mimetype": "text/x-python",
   "name": "python",
   "nbconvert_exporter": "python",
   "pygments_lexer": "ipython3",
   "version": "3.7.6"
  }
 },
 "nbformat": 4,
 "nbformat_minor": 4
}
